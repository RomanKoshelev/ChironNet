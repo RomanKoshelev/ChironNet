{
 "cells": [
  {
   "cell_type": "markdown",
   "metadata": {},
   "source": [
    "# Student"
   ]
  },
  {
   "cell_type": "code",
   "execution_count": 84,
   "metadata": {},
   "outputs": [
    {
     "name": "stdout",
     "output_type": "stream",
     "text": [
      "{'1+2=3': ['1+3=4', '3+1=4'], '1+3=4': ['1+2=3', '3+1=4'], '3+1=4': ['1+2=3', '1+3=4'], '1+1=2': ['2+2=4', '2+3=5'], '2+2=4': ['1+1=2', '2+3=5'], '2+3=5': ['1+1=2', '2+2=4'], '2+1=3': ['3+2=5', '3+3=6'], '3+2=5': ['2+1=3', '3+3=6'], '3+3=6': ['2+1=3', '3+2=5']} \n",
      " \n",
      "{'1+1=2': 0, '1+2=3': 1.0, '1+3=4': 0.5, '2+1=3': 0, '2+2=4': 0, '2+3=5': 0, '3+1=4': 0.5, '3+2=5': 0, '3+3=6': 0}\n"
     ]
    }
   ],
   "source": [
    "import numpy as np\n",
    "\n",
    "\n",
    "# =============================\n",
    "class Student:\n",
    "    def __init__(self, subjs, similar=[], learn_rate=.1, forget_rate=.1, sim_rate=.5):\n",
    "        self.skills = {s:0 for s in subjs}\n",
    "        self.sim_subjs = similar\n",
    "        self.lr = learn_rate\n",
    "        self.fr = forget_rate\n",
    "        self.sr = sim_rate\n",
    "            \n",
    "    def learn(self, subj):\n",
    "        # update subj's skill\n",
    "        v = self.skills.get(subj, 0)\n",
    "        self.skills[subj] = min(v+self.lr, 1) \n",
    "        # update similar skills\n",
    "        for sim in self.sim_subjs[subj]:\n",
    "            v = self.skills.get(sim, 0)\n",
    "            self.skills[sim] = min(v+self.lr*self.sr, 1) \n",
    "\n",
    "    def forget(self):\n",
    "        for s,v in self.skills.items():\n",
    "            self.skills[s] = v*(1-self.fr)\n",
    "            \n",
    "    def __repr__(self):\n",
    "        return \"%s(%r)\" % (self.__class__, self.__dict__)\n",
    "\n",
    "\n",
    "# =============================\n",
    "def make_add_subjects(num):\n",
    "    return [\"%d+%d=%d\" % (i+1,j+1,i+j+2) for i in range(num) for j in range(num)]\n",
    "\n",
    "def split_subjects(subjs, num):\n",
    "    g = [[] for _ in range(num)]\n",
    "    for s in subjs:\n",
    "        i = np.random.randint(num)\n",
    "        g[i].append(s)\n",
    "    return g\n",
    "            \n",
    "def make_similar(subjs, num):\n",
    "    groups = split_subjects(subjs, num)\n",
    "    sims = {}\n",
    "    for g in groups:\n",
    "        for s in g:\n",
    "            sims[s] = [sim for sim in g if sim!=s]\n",
    "    return sims\n",
    "    \n",
    "\n",
    "# =============================\n",
    "np.random.seed(1969)\n",
    "\n",
    "subjs = make_add_subjects(3)\n",
    "sim_subjs = make_similar(subjs, 3)\n",
    "\n",
    "s = Student(subjs, sim_subjs, learn_rate=1.)\n",
    "s.learn('1+2=3')\n",
    "print(s.sim_subjs, \"\\n \")\n",
    "print(s.skills)\n"
   ]
  },
  {
   "cell_type": "code",
   "execution_count": null,
   "metadata": {},
   "outputs": [],
   "source": []
  }
 ],
 "metadata": {
  "kernelspec": {
   "display_name": "Python 3",
   "language": "python",
   "name": "python3"
  },
  "language_info": {
   "codemirror_mode": {
    "name": "ipython",
    "version": 3
   },
   "file_extension": ".py",
   "mimetype": "text/x-python",
   "name": "python",
   "nbconvert_exporter": "python",
   "pygments_lexer": "ipython3",
   "version": "3.6.5"
  }
 },
 "nbformat": 4,
 "nbformat_minor": 2
}
