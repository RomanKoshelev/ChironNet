{
 "cells": [
  {
   "cell_type": "markdown",
   "metadata": {},
   "source": [
    "# Student"
   ]
  },
  {
   "cell_type": "code",
   "execution_count": 45,
   "metadata": {},
   "outputs": [],
   "source": [
    "import numpy as np\n",
    "\n",
    "# ==========================================================================================\n",
    "class Student:\n",
    "    def __init__(self, similar=[], learn_rate=.1, forget_rate=.1, sim_rate=.5):\n",
    "        self.skills = {}\n",
    "        self.sim_subjs = similar\n",
    "        self.lr = learn_rate\n",
    "        self.fr = forget_rate\n",
    "        self.sr = sim_rate\n",
    "\n",
    "    def clear(self):\n",
    "        for s in self.skills.keys():\n",
    "            self.skills[s] = 0\n",
    "\n",
    "    def learn(self, subj):\n",
    "        # update subj's skill\n",
    "        v = self.skills.get(subj, 0)\n",
    "        self.skills[subj] = min(v+self.lr, 1) \n",
    "        # update similar skills\n",
    "        for sim in self.sim_subjs.get(subj, []):\n",
    "            v = self.skills.get(sim, 0)\n",
    "            self.skills[sim] = min(v+self.lr*self.sr, 1) \n",
    "\n",
    "    def forget(self):\n",
    "        for s,v in self.skills.items():\n",
    "            self.skills[s] = v*(1-self.fr)\n",
    "            \n",
    "    def __repr__(self):\n",
    "        return \"%s(%r)\" % (self.__class__, self.__dict__)\n",
    "\n",
    "# ==========================================================================================\n",
    "class BaseTeacher:\n",
    "    def __init__(self, subjs):\n",
    "        self.subjs = subjs\n",
    "\n",
    "    def teach(self, student):\n",
    "        if type(student) is list:\n",
    "            for s in student:\n",
    "                self.teach(s)\n",
    "        self._do_teach(student)\n",
    "    \n",
    "    def _do_teach(self, student):\n",
    "        raise NotImplementedError\n",
    "\n",
    "        \n",
    "class Teacher(BaseTeacher):\n",
    "    def _do_teach(self, student):\n",
    "        subj = np.random.choice(self.subjs)\n",
    "        student.learn(subj)\n",
    "        #print(s)\n"
   ]
  },
  {
   "cell_type": "code",
   "execution_count": 46,
   "metadata": {},
   "outputs": [],
   "source": [
    "def make_add_subjects(num):\n",
    "    return [\"%d+%d=%d\" % (i+1,j+1,i+j+2) for i in range(num) for j in range(num)]\n",
    "\n",
    "def split_subjects(subjs, num):\n",
    "    g = [[] for _ in range(num)]\n",
    "    for s in subjs:\n",
    "        i = np.random.randint(num)\n",
    "        g[i].append(s)\n",
    "    return g\n",
    "            \n",
    "def make_similar(subjs, num):\n",
    "    groups = split_subjects(subjs, num)\n",
    "    sims = {}\n",
    "    for g in groups:\n",
    "        for s in g:\n",
    "            sims[s] = [sim for sim in g if sim!=s]\n",
    "    return sims\n",
    "\n",
    "def evaluate(student, subjs):\n",
    "    v = 0\n",
    "    for s in subjs:\n",
    "        v += student.skills.get(s, 0)\n",
    "    return v / len(subjs)"
   ]
  },
  {
   "cell_type": "code",
   "execution_count": 48,
   "metadata": {},
   "outputs": [
    {
     "name": "stdout",
     "output_type": "stream",
     "text": [
      "subjs: ['1+1=2', '1+2=3', '1+3=4', '2+1=3', '2+2=4', '2+3=5', '3+1=4', '3+2=5', '3+3=6'] \n",
      "\n",
      "sim_subjs: {'2+1=3': [], '1+1=2': ['2+3=5'], '2+3=5': ['1+1=2'], '1+2=3': ['3+1=4', '3+3=6'], '3+1=4': ['1+2=3', '3+3=6'], '3+3=6': ['1+2=3', '3+1=4'], '1+3=4': ['3+2=5'], '3+2=5': ['1+3=4'], '2+2=4': []} \n",
      "\n"
     ]
    }
   ],
   "source": [
    "np.random.seed(1969)\n",
    "\n",
    "subjs = make_add_subjects(3)\n",
    "sim_subjs = make_similar(subjs, 6)\n",
    "print(\"subjs:\", subjs, '\\n')\n",
    "print(\"sim_subjs:\", sim_subjs, '\\n')"
   ]
  },
  {
   "cell_type": "code",
   "execution_count": 65,
   "metadata": {},
   "outputs": [
    {
     "name": "stdout",
     "output_type": "stream",
     "text": [
      "0.0\n",
      "{} \n",
      "\n",
      "0.6111111111111112\n",
      "{'1+2=3': 1, '3+1=4': 1, '3+3=6': 1, '2+2=4': 1.0, '3+2=5': 1.0, '1+3=4': 0.5} \n",
      "\n"
     ]
    }
   ],
   "source": [
    "t = Teacher(subjs)\n",
    "s = Student(sim_subjs, learn_rate=1.)\n",
    "\n",
    "print(evaluate(s, subjs))\n",
    "print(s.skills, '\\n')\n",
    "\n",
    "for _ in range(10):\n",
    "    t.teach(s)\n",
    "    \n",
    "print(evaluate(s, subjs))\n",
    "print(s.skills, '\\n')\n",
    "    "
   ]
  },
  {
   "cell_type": "code",
   "execution_count": 4,
   "metadata": {},
   "outputs": [
    {
     "name": "stdout",
     "output_type": "stream",
     "text": [
      "0.0\n",
      "{} \n",
      "\n",
      "0.2222222222222222\n",
      "{'1+2=3': 1.0, '3+1=4': 0.5, '3+3=6': 0.5} \n",
      "\n",
      "0.16666666666666666\n",
      "{'1+2=3': 0, '3+1=4': 0, '3+3=6': 0, '1+1=2': 1.0, '2+3=5': 0.5} \n",
      "\n"
     ]
    }
   ],
   "source": [
    "s = Student(sim_subjs, learn_rate=1.)\n",
    "print(evaluate(s, subjs))\n",
    "print(s.skills, '\\n')\n",
    "\n",
    "s.learn('1+2=3')\n",
    "print(evaluate(s, subjs))\n",
    "print(s.skills, '\\n')\n",
    "\n",
    "s.clear()\n",
    "\n",
    "s.learn('1+1=2')\n",
    "print(evaluate(s, subjs))\n",
    "print(s.skills, '\\n')"
   ]
  }
 ],
 "metadata": {
  "kernelspec": {
   "display_name": "Python 3",
   "language": "python",
   "name": "python3"
  },
  "language_info": {
   "codemirror_mode": {
    "name": "ipython",
    "version": 3
   },
   "file_extension": ".py",
   "mimetype": "text/x-python",
   "name": "python",
   "nbconvert_exporter": "python",
   "pygments_lexer": "ipython3",
   "version": "3.6.5"
  }
 },
 "nbformat": 4,
 "nbformat_minor": 2
}
