{
 "cells": [
  {
   "cell_type": "markdown",
   "metadata": {},
   "source": [
    "# Student"
   ]
  },
  {
   "cell_type": "code",
   "execution_count": 24,
   "metadata": {},
   "outputs": [],
   "source": [
    "import numpy as np\n",
    "import random"
   ]
  },
  {
   "cell_type": "code",
   "execution_count": 2,
   "metadata": {},
   "outputs": [],
   "source": [
    "def evaluate(skills, subjs):\n",
    "    val = 0\n",
    "    for subj in subjs:\n",
    "        val += skills.get(subj, 0)\n",
    "    return val / len(subjs)\n",
    "\n",
    "class World:\n",
    "    def __init__(self, subj_num, seed=None):\n",
    "        np.random.seed(seed)\n",
    "        self.subjs = [\"%d+%d=%d\" % (i+1,j+1,i+j+2) for i in range(subj_num) for j in range(subj_num)]\n",
    "    \n",
    "    def __repr__(self):\n",
    "        return \"%s(%r)\" % (self.__class__, self.__dict__)\n",
    "    \n",
    "    def random_sim_subjs(self, group_num):\n",
    "        def split(subjs, n):\n",
    "            g = [[] for _ in range(n)]\n",
    "            for s in subjs:\n",
    "                i = np.random.randint(n)\n",
    "                g[i].append(s)\n",
    "            return g\n",
    "\n",
    "        groups = split(self.subjs, group_num)\n",
    "        sims = {}\n",
    "        for group in groups:\n",
    "            for subj in group:\n",
    "                sims[subj] = [sim for sim in group if sim!=subj]\n",
    "        return sims\n",
    "\n",
    "    def evaluate(self, student, prn=False):\n",
    "        if type(student) is list:\n",
    "            v = 0\n",
    "            for s in student:\n",
    "                v += self.evaluate(s, prn=False)\n",
    "            v /= len(student)\n",
    "            if prn:\n",
    "                print(v)                \n",
    "            return v\n",
    "        \n",
    "        v = evaluate (student.skills, self.subjs)\n",
    "        if prn:\n",
    "            print(v)\n",
    "        return v\n",
    "    \n",
    "    def dirichlet_sim_subjs(self, group_num, a):\n",
    "        dist = np.random.dirichlet([a]*group_num)\n",
    "        def split(subjs, n):\n",
    "            g = [[] for _ in range(n)]\n",
    "            for s in subjs:\n",
    "                r = np.random.random()\n",
    "                q = 0.\n",
    "                for i,d in enumerate(dist):\n",
    "                    q += d\n",
    "                    if r < q:\n",
    "                        break\n",
    "                g[i].append(s)\n",
    "            return g\n",
    "        groups = split(self.subjs, group_num)\n",
    "        sims = {}\n",
    "        for group in groups:\n",
    "            for subj in group:\n",
    "                sims[subj] = [sim for sim in group if sim!=subj]\n",
    "        return sims\n",
    "        \n",
    "    def kolhoz_sim_subjs(self):\n",
    "        subjs = self.subjs.copy()\n",
    "        groups = [[] for _ in range(len(self.subjs)//2+1)]\n",
    "        k = np.random.randint(len(groups))\n",
    "        for s in self.subjs:\n",
    "            if np.random.random()<1/2:\n",
    "                i = np.random.randint(len(groups))\n",
    "                groups[i].append(s)\n",
    "            else:\n",
    "                groups[k].append(s)\n",
    "        \n",
    "        sims = {}\n",
    "        for group in groups:\n",
    "            for subj in group:\n",
    "                sims[subj] = [sim for sim in group if sim!=subj]\n",
    "        return sims\n",
    "                "
   ]
  },
  {
   "cell_type": "code",
   "execution_count": 23,
   "metadata": {},
   "outputs": [
    {
     "data": {
      "text/plain": [
       "([1, 2, 3, 4], [3, 2, 4, 1])"
      ]
     },
     "execution_count": 23,
     "metadata": {},
     "output_type": "execute_result"
    }
   ],
   "source": [
    "a = [1,2,3,4]\n",
    "b = a.copy()\n",
    "random.shuffle(b)\n",
    "a,b"
   ]
  },
  {
   "cell_type": "code",
   "execution_count": 12,
   "metadata": {},
   "outputs": [
    {
     "name": "stdout",
     "output_type": "stream",
     "text": [
      "1+2=3 4\n",
      "2+2=4 4\n",
      "3+1=4 4\n",
      "3+3=6 4\n",
      "1+1=2 2\n",
      "4+3=7 2\n",
      "2+3=5 6\n",
      "2+4=6 6\n",
      "3+4=7 6\n",
      "4+1=5 6\n",
      "4+2=6 6\n",
      "4+4=8 6\n",
      "1+3=4 2\n",
      "3+2=5 2\n",
      "1+4=5 2\n",
      "2+1=3 2\n"
     ]
    }
   ],
   "source": [
    "world = World(subj_num=4, seed=None)\n",
    "sims = world.kolhoz_sim_subjs()\n",
    "\n",
    "for k,v in sims.items():\n",
    "    print(k, len(v)+1)"
   ]
  },
  {
   "cell_type": "code",
   "execution_count": 4,
   "metadata": {},
   "outputs": [],
   "source": [
    "class BaseTeacher:\n",
    "    def __init__(self, subjs):\n",
    "        self.subjs = subjs\n",
    "\n",
    "    def teach(self, student):\n",
    "        if type(student) is list:\n",
    "            for s in student:\n",
    "                self.teach(s)\n",
    "        else:\n",
    "            self._do_teach(student)\n",
    "    \n",
    "    def _do_teach(self, student):\n",
    "        raise NotImplementedError\n",
    "\n",
    "        \n",
    "class RandomTeacher(BaseTeacher):\n",
    "    def _do_teach(self, student):\n",
    "        subj = np.random.choice(self.subjs)\n",
    "        student.learn(subj)"
   ]
  },
  {
   "cell_type": "code",
   "execution_count": 6,
   "metadata": {},
   "outputs": [],
   "source": [
    "class Profile:\n",
    "    def __init__(self, sim_subjs, learn_rate, forget_rate, sim_rate):\n",
    "        self.sim_subjs   = sim_subjs\n",
    "        self.learn_rate  = learn_rate\n",
    "        self.forget_rate = forget_rate\n",
    "        self.sim_rate    = sim_rate\n",
    "        "
   ]
  },
  {
   "cell_type": "code",
   "execution_count": 5,
   "metadata": {},
   "outputs": [],
   "source": [
    "import uuid\n",
    "\n",
    "class Student:\n",
    "    def __init__(self, sim_subjs, learn_rate, forget_rate, sim_rate):\n",
    "        self.id = str(uuid.uuid4())\n",
    "        self.skills = {}\n",
    "        self.sim_subjs = sim_subjs\n",
    "        self.lr = learn_rate\n",
    "        self.fr = forget_rate\n",
    "        self.sr = sim_rate\n",
    "\n",
    "    def clear(self):\n",
    "        for s in self.skills.keys():\n",
    "            self.skills[s] = 0\n",
    "\n",
    "    def learn(self, subj):\n",
    "        # update subj skill\n",
    "        v = self.skills.get(subj, 0)\n",
    "        self.skills[subj] = min(v+self.lr, 1)\n",
    "        # update similar skills\n",
    "        for sim in self.sim_subjs.get(subj, []):\n",
    "            v = self.skills.get(sim, 0)\n",
    "            self.skills[sim] = min(v+self.lr*self.sr, 1)\n",
    "\n",
    "    def forget(self):\n",
    "        for s,v in self.skills.items():\n",
    "            self.skills[s] = v*(1-self.fr)\n",
    "            \n",
    "    def __repr__(self):\n",
    "        return \"%s(%r)\" % (self.__class__, self.__dict__)\n",
    "   "
   ]
  },
  {
   "cell_type": "raw",
   "metadata": {},
   "source": [
    "Todo:\n",
    "~~~~~\n",
    "+ Forget rate\n",
    "+ Student species\n",
    "+ OnestepTeacher\n",
    "+ Compare teachers\n",
    "> Correct kolhoz: [[many],[1],[1],[1]..[1]]"
   ]
  },
  {
   "cell_type": "code",
   "execution_count": 28,
   "metadata": {},
   "outputs": [],
   "source": [
    "class OnestepTeacher(BaseTeacher):\n",
    "    def __init__(self, subjs):\n",
    "        super().__init__(subjs)\n",
    "        self.students={}\n",
    "                \n",
    "    def _do_teach(self, student):\n",
    "        best_subj = None\n",
    "        best_val  = -1\n",
    "        \n",
    "        prev_skills = student.skills.copy()\n",
    "\n",
    "        for subj in self.subjs:\n",
    "            student.learn(subj)\n",
    "            student.forget()\n",
    "            val = evaluate(student.skills, self.subjs)\n",
    "            if val > best_val:\n",
    "                best_subj = subj\n",
    "                best_val  = val\n",
    "            student.skills = prev_skills.copy()                \n",
    "        student.learn(best_subj)"
   ]
  },
  {
   "cell_type": "code",
   "execution_count": 58,
   "metadata": {},
   "outputs": [
    {
     "name": "stdout",
     "output_type": "stream",
     "text": [
      "RandomTeacher : 91.6%\n",
      "OnestepTeacher: 98.0%\n"
     ]
    }
   ],
   "source": [
    "world = World(subj_num=3, seed=None)\n",
    "lr = .1\n",
    "fr = .01\n",
    "sr = .5\n",
    "pnum = 2\n",
    "snum = 10\n",
    "iters = 100\n",
    "\n",
    "profiles = [Profile(world.dirichlet_sim_subjs(10, a=0.5999), lr, fr, sr) for _ in range(pnum)]\n",
    "\n",
    "profiles = [Profile(world.kolhoz_sim_subjs(), lr, fr, sr) for _ in range(pnum)]\n",
    "\n",
    "#print(profiles[0].sim_subjs)\n",
    "\n",
    "students = [Student(p.sim_subjs, p.learn_rate, p.forget_rate, p.sim_rate) for p in profiles for _ in range(snum)]\n",
    "teachers = [T(subjs=world.subjs) for T in [RandomTeacher, OnestepTeacher]]\n",
    "\n",
    "for t in teachers:\n",
    "    for s in students:\n",
    "        s.clear()\n",
    "    for s in students:\n",
    "        for i in range(iters):\n",
    "            t.teach(s)\n",
    "            s.forget()\n",
    "    print(\"%-14s: %.1f%%\" % (t.__class__.__name__, world.evaluate(students)*100))\n",
    "    "
   ]
  },
  {
   "cell_type": "code",
   "execution_count": null,
   "metadata": {},
   "outputs": [],
   "source": []
  },
  {
   "cell_type": "code",
   "execution_count": null,
   "metadata": {},
   "outputs": [],
   "source": []
  }
 ],
 "metadata": {
  "kernelspec": {
   "display_name": "Python 3",
   "language": "python",
   "name": "python3"
  },
  "language_info": {
   "codemirror_mode": {
    "name": "ipython",
    "version": 3
   },
   "file_extension": ".py",
   "mimetype": "text/x-python",
   "name": "python",
   "nbconvert_exporter": "python",
   "pygments_lexer": "ipython3",
   "version": "3.6.5"
  }
 },
 "nbformat": 4,
 "nbformat_minor": 2
}
