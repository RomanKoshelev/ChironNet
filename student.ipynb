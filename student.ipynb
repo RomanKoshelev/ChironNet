{
 "cells": [
  {
   "cell_type": "markdown",
   "metadata": {},
   "source": [
    "# Student"
   ]
  },
  {
   "cell_type": "code",
   "execution_count": 7,
   "metadata": {},
   "outputs": [],
   "source": [
    "import numpy as np"
   ]
  },
  {
   "cell_type": "code",
   "execution_count": 13,
   "metadata": {},
   "outputs": [],
   "source": [
    "class World:\n",
    "    def __init__(self, subj_num, seed=None):\n",
    "        np.random.seed(seed)\n",
    "        self.subjs = [\"%d+%d=%d\" % (i+1,j+1,i+j+2) for i in range(subj_num) for j in range(subj_num)]\n",
    "    \n",
    "    def __repr__(self):\n",
    "        return \"%s(%r)\" % (self.__class__, self.__dict__)\n",
    "    \n",
    "    def random_sim_subjs(self, group_num):\n",
    "        def split(subjs, n):\n",
    "            g = [[] for _ in range(n)]\n",
    "            for s in subjs:\n",
    "                i = np.random.randint(n)\n",
    "                g[i].append(s)\n",
    "            return g\n",
    "\n",
    "        groups = split(self.subjs, group_num)\n",
    "        sims = {}\n",
    "        for g in groups:\n",
    "            for s in g:\n",
    "                sims[s] = [sim for sim in g if sim!=s]\n",
    "        return sims\n",
    "\n",
    "    def evaluate(self, student):\n",
    "        v = 0\n",
    "        for s in self.subjs:\n",
    "            v += student.skills.get(s, 0)\n",
    "        return v / len(self.subjs)"
   ]
  },
  {
   "cell_type": "code",
   "execution_count": 9,
   "metadata": {},
   "outputs": [],
   "source": [
    "class Student:\n",
    "    def __init__(self, sim_subjs=[], learn_rate=.1, forget_rate=.1, sim_rate=.5):\n",
    "        self.skills = {}\n",
    "        self.sim_subjs = sim_subjs\n",
    "        self.lr = learn_rate\n",
    "        self.fr = forget_rate\n",
    "        self.sr = sim_rate\n",
    "\n",
    "    def clear(self):\n",
    "        for s in self.skills.keys():\n",
    "            self.skills[s] = 0\n",
    "\n",
    "    def learn(self, subj):\n",
    "        # update subj's skill\n",
    "        v = self.skills.get(subj, 0)\n",
    "        self.skills[subj] = min(v+self.lr, 1) \n",
    "        # update similar skills\n",
    "        for sim in self.sim_subjs.get(subj, []):\n",
    "            v = self.skills.get(sim, 0)\n",
    "            self.skills[sim] = min(v+self.lr*self.sr, 1) \n",
    "\n",
    "    def forget(self):\n",
    "        for s,v in self.skills.items():\n",
    "            self.skills[s] = v*(1-self.fr)\n",
    "            \n",
    "    def __repr__(self):\n",
    "        return \"%s(%r)\" % (self.__class__, self.__dict__)"
   ]
  },
  {
   "cell_type": "code",
   "execution_count": 10,
   "metadata": {},
   "outputs": [],
   "source": [
    "class BaseTeacher:\n",
    "    def __init__(self, subjs):\n",
    "        self.subjs = subjs\n",
    "\n",
    "    def teach(self, student):\n",
    "        if type(student) is list:\n",
    "            for s in student:\n",
    "                self.teach(s)\n",
    "        self._do_teach(student)\n",
    "    \n",
    "    def _do_teach(self, student):\n",
    "        raise NotImplementedError\n",
    "\n",
    "        \n",
    "class Teacher(BaseTeacher):\n",
    "    def _do_teach(self, student):\n",
    "        subj = np.random.choice(self.subjs)\n",
    "        student.learn(subj)\n",
    "        #print(s)"
   ]
  },
  {
   "cell_type": "code",
   "execution_count": 18,
   "metadata": {},
   "outputs": [
    {
     "name": "stdout",
     "output_type": "stream",
     "text": [
      "0.0\n",
      "{} \n",
      "\n",
      "0.6666666666666666\n",
      "{'2+1=3': 1, '2+3=5': 1, '1+1=2': 1, '2+2=4': 1, '3+1=4': 1.0, '1+2=3': 0.5, '3+3=6': 0.5} \n",
      "\n"
     ]
    }
   ],
   "source": [
    "w = World(subj_num=3, seed=1969)\n",
    "t = Teacher(subjs=w.subjs)\n",
    "s = Student(sim_subjs=w.random_sim_subjs(group_num=6), learn_rate=1.)\n",
    "\n",
    "print(w.evaluate(s))\n",
    "print(s.skills, '\\n')\n",
    "\n",
    "for _ in range(10):\n",
    "    t.teach(s)\n",
    "    \n",
    "print(w.evaluate(s))\n",
    "print(s.skills, '\\n')\n",
    "    "
   ]
  },
  {
   "cell_type": "code",
   "execution_count": null,
   "metadata": {},
   "outputs": [],
   "source": []
  }
 ],
 "metadata": {
  "kernelspec": {
   "display_name": "Python 3",
   "language": "python",
   "name": "python3"
  },
  "language_info": {
   "codemirror_mode": {
    "name": "ipython",
    "version": 3
   },
   "file_extension": ".py",
   "mimetype": "text/x-python",
   "name": "python",
   "nbconvert_exporter": "python",
   "pygments_lexer": "ipython3",
   "version": "3.6.5"
  }
 },
 "nbformat": 4,
 "nbformat_minor": 2
}
