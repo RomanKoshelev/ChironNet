{
 "cells": [
  {
   "cell_type": "markdown",
   "metadata": {},
   "source": [
    "# Student"
   ]
  },
  {
   "cell_type": "code",
   "execution_count": 1,
   "metadata": {},
   "outputs": [],
   "source": [
    "import numpy as np"
   ]
  },
  {
   "cell_type": "code",
   "execution_count": 2,
   "metadata": {},
   "outputs": [],
   "source": [
    "class World:\n",
    "    def __init__(self, subj_num, seed=None):\n",
    "        np.random.seed(seed)\n",
    "        self.subjs = [\"%d+%d=%d\" % (i+1,j+1,i+j+2) for i in range(subj_num) for j in range(subj_num)]\n",
    "    \n",
    "    def __repr__(self):\n",
    "        return \"%s(%r)\" % (self.__class__, self.__dict__)\n",
    "    \n",
    "    def random_sim_subjs(self, group_num):\n",
    "        def split(subjs, n):\n",
    "            g = [[] for _ in range(n)]\n",
    "            for s in subjs:\n",
    "                i = np.random.randint(n)\n",
    "                g[i].append(s)\n",
    "            return g\n",
    "\n",
    "        groups = split(self.subjs, group_num)\n",
    "        sims = {}\n",
    "        for group in groups:\n",
    "            for subj in group:\n",
    "                sims[subj] = [sim for sim in group if sim!=subj]\n",
    "        return sims\n",
    "\n",
    "    def evaluate(self, student, prn=False):\n",
    "        v = 0\n",
    "        for subj in self.subjs:\n",
    "            v += student.skills.get(subj, 0)\n",
    "        v /= len(self.subjs)\n",
    "        if prn:\n",
    "            print(v)\n",
    "        return v"
   ]
  },
  {
   "cell_type": "code",
   "execution_count": 3,
   "metadata": {},
   "outputs": [],
   "source": [
    "class BaseTeacher:\n",
    "    def __init__(self, subjs):\n",
    "        self.subjs = subjs\n",
    "\n",
    "    def teach(self, student):\n",
    "        if type(student) is list:\n",
    "            for s in student:\n",
    "                self.teach(s)\n",
    "        else:\n",
    "            self._do_teach(student)\n",
    "    \n",
    "    def _do_teach(self, student):\n",
    "        raise NotImplementedError\n",
    "\n",
    "        \n",
    "class RandomTeacher(BaseTeacher):\n",
    "    def _do_teach(self, student):\n",
    "        subj = np.random.choice(self.subjs)\n",
    "        student.learn(subj)\n",
    "        #print(s)"
   ]
  },
  {
   "cell_type": "code",
   "execution_count": 4,
   "metadata": {},
   "outputs": [],
   "source": [
    "class Student:\n",
    "    def __init__(self, sim_subjs, learn_rate, forget_rate, sim_rate):\n",
    "        self.skills = {}\n",
    "        self.sim_subjs = sim_subjs\n",
    "        self.lr = learn_rate\n",
    "        self.fr = forget_rate\n",
    "        self.sr = sim_rate\n",
    "\n",
    "    def clear(self):\n",
    "        for s in self.skills.keys():\n",
    "            self.skills[s] = 0\n",
    "\n",
    "    def learn(self, subj):\n",
    "        # update subj skill\n",
    "        v = self.skills.get(subj, 0)\n",
    "        self.skills[subj] = min(v+self.lr, 1) \n",
    "        # update similar skills\n",
    "        for sim in self.sim_subjs.get(subj, []):\n",
    "            v = self.skills.get(sim, 0)\n",
    "            self.skills[sim] = min(v+self.lr*self.sr, 1) \n",
    "\n",
    "    def forget(self):\n",
    "        for s,v in self.skills.items():\n",
    "            self.skills[s] = v*(1-self.fr)\n",
    "            \n",
    "    def __repr__(self):\n",
    "        return \"%s(%r)\" % (self.__class__, self.__dict__)\n",
    "   "
   ]
  },
  {
   "cell_type": "code",
   "execution_count": 5,
   "metadata": {},
   "outputs": [],
   "source": [
    "class Species:\n",
    "    def __init__(self, sim_subjs, learn_rate, forget_rate, sim_rate):\n",
    "        self.sim_subjs   = sim_subjs\n",
    "        self.learn_rate  = learn_rate\n",
    "        self.forget_rate = forget_rate\n",
    "        self.sim_rate    = sim_rate\n",
    "        "
   ]
  },
  {
   "cell_type": "raw",
   "metadata": {},
   "source": [
    "Todo:\n",
    "~~~~~\n",
    "+ Forget rate\n",
    "> Student species\n",
    "- AlgorithmicTeacher\n",
    "- Compare teachers"
   ]
  },
  {
   "cell_type": "code",
   "execution_count": 12,
   "metadata": {},
   "outputs": [
    {
     "name": "stdout",
     "output_type": "stream",
     "text": [
      "0.0\n"
     ]
    },
    {
     "data": {
      "text/plain": [
       "0.5008509805612397"
      ]
     },
     "execution_count": 12,
     "metadata": {},
     "output_type": "execute_result"
    }
   ],
   "source": [
    "wd = World(subj_num=10, seed=None)\n",
    "tr = RandomTeacher(subjs=wd.subjs)\n",
    "sp = Species(wd.random_sim_subjs(group_num=10), learn_rate=.1, forget_rate=.01, sim_rate=.5)\n",
    "st = Student(sp.sim_subjs, sp.learn_rate, sp.forget_rate, sp.sim_rate)\n",
    "\n",
    "wd.evaluate(st, prn=True)\n",
    "\n",
    "for _ in range(200):\n",
    "    tr.teach(st)\n",
    "    st.forget()\n",
    "    \n",
    "wd.evaluate(st, prn=False)\n"
   ]
  },
  {
   "cell_type": "code",
   "execution_count": null,
   "metadata": {},
   "outputs": [],
   "source": []
  }
 ],
 "metadata": {
  "kernelspec": {
   "display_name": "Python 3",
   "language": "python",
   "name": "python3"
  },
  "language_info": {
   "codemirror_mode": {
    "name": "ipython",
    "version": 3
   },
   "file_extension": ".py",
   "mimetype": "text/x-python",
   "name": "python",
   "nbconvert_exporter": "python",
   "pygments_lexer": "ipython3",
   "version": "3.6.5"
  }
 },
 "nbformat": 4,
 "nbformat_minor": 2
}
