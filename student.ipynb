{
 "cells": [
  {
   "cell_type": "markdown",
   "metadata": {},
   "source": [
    "# Student"
   ]
  },
  {
   "cell_type": "code",
   "execution_count": 68,
   "metadata": {},
   "outputs": [
    {
     "name": "stdout",
     "output_type": "stream",
     "text": [
      "[['3+3=6'], ['1+2=3', '1+3=4', '3+1=4'], ['1+1=2', '2+1=3', '2+2=4', '2+3=5', '3+2=5']]\n"
     ]
    }
   ],
   "source": [
    "import numpy as np\n",
    "\n",
    "# =============================\n",
    "class Student:\n",
    "    def __init__(self, subgenerajs):\n",
    "        self.skills = {s:0 for s in subjs}\n",
    "            \n",
    "    def learn(self, skill):\n",
    "        lr = .1\n",
    "        v = self.skills.get(skill, 0)\n",
    "        self.skills[skill] = min(v+lr, 1) \n",
    "\n",
    "    def forget(self):\n",
    "        fr = .1\n",
    "        for k,v in self.skills.items():\n",
    "            self.skills[k] = v*(1-fr)\n",
    "\n",
    "\n",
    "# =============================\n",
    "def make_add_subjects(num):\n",
    "    return [\"%d+%d=%d\" % (i+1,j+1,i+j+2) for i in range(num) for j in range(num)]\n",
    "\n",
    "def split_subjects(subjs, num):\n",
    "    g = [[] for _ in range(num)]\n",
    "    for s in subjs:\n",
    "        i = np.random.randint(num)\n",
    "        g[i].append(s)\n",
    "    return g\n",
    "            \n",
    "# =============================\n",
    "subjs = make_add_subjects(3)\n",
    "similar = split_subjects(subjs, 3)\n",
    "print(similar)\n"
   ]
  },
  {
   "cell_type": "code",
   "execution_count": null,
   "metadata": {},
   "outputs": [],
   "source": []
  }
 ],
 "metadata": {
  "kernelspec": {
   "display_name": "Python 3",
   "language": "python",
   "name": "python3"
  },
  "language_info": {
   "codemirror_mode": {
    "name": "ipython",
    "version": 3
   },
   "file_extension": ".py",
   "mimetype": "text/x-python",
   "name": "python",
   "nbconvert_exporter": "python",
   "pygments_lexer": "ipython3",
   "version": "3.6.5"
  }
 },
 "nbformat": 4,
 "nbformat_minor": 2
}
