{
 "cells": [
  {
   "cell_type": "markdown",
   "metadata": {},
   "source": [
    "# Student"
   ]
  },
  {
   "cell_type": "code",
   "execution_count": 24,
   "metadata": {},
   "outputs": [
    {
     "name": "stdout",
     "output_type": "stream",
     "text": [
      "{'0+0=0': 0, '0+1=1': 0, '0+2=2': 0, '1+0=1': 0, '1+1=2': 0, '1+2=3': 0.1, '2+0=2': 0, '2+1=3': 0, '2+2=4': 0, '2+3=5': 0.1}\n",
      "{'0+0=0': 0.0, '0+1=1': 0.0, '0+2=2': 0.0, '1+0=1': 0.0, '1+1=2': 0.0, '1+2=3': 0.09000000000000001, '2+0=2': 0.0, '2+1=3': 0.0, '2+2=4': 0.0, '2+3=5': 0.09000000000000001}\n"
     ]
    }
   ],
   "source": [
    "# =============================\n",
    "class Student:\n",
    "    def __init__(self, subgenerajs):\n",
    "        self.skills = {s:0 for s in subjs}\n",
    "            \n",
    "    def learn(self, skill):\n",
    "        lr = .1\n",
    "        v = self.skills.get(skill, 0)\n",
    "        self.skills[skill] = min(v +lr, 1) \n",
    "\n",
    "    def forget(self):\n",
    "        fr = .1\n",
    "        for k,v in self.skills.items():\n",
    "            self.skills[k] = v*(1-fr)\n",
    "\n",
    "\n",
    "# =============================\n",
    "def make_add_subjects(num):\n",
    "    return [\"%d+%d=%d\" % (i,j,i+j) for i in range(num) for j in range(num)]\n",
    "    \n",
    "            \n",
    "# =============================\n",
    "subjs = make_add_subjects(3)\n",
    "\n",
    "st = Student([\"a\",\"b\"])\n",
    "st.learn(\"1+2=3\")\n",
    "st.learn(\"2+3=5\")\n",
    "print(st.skills)\n",
    "st.forget()\n",
    "print(st.skills)"
   ]
  },
  {
   "cell_type": "code",
   "execution_count": 20,
   "metadata": {},
   "outputs": [
    {
     "data": {
      "text/plain": [
       "'3.6.5 |Anaconda, Inc.| (default, Apr 29 2018, 16:14:56) \\n[GCC 7.2.0]'"
      ]
     },
     "execution_count": 20,
     "metadata": {},
     "output_type": "execute_result"
    }
   ],
   "source": [
    "import sys\n",
    "sys.version"
   ]
  },
  {
   "cell_type": "code",
   "execution_count": 6,
   "metadata": {},
   "outputs": [
    {
     "name": "stdout",
     "output_type": "stream",
     "text": [
      "111\n"
     ]
    }
   ],
   "source": [
    "s = {}\n",
    "a = s.get(1, \"111\")\n",
    "print(a)"
   ]
  },
  {
   "cell_type": "code",
   "execution_count": null,
   "metadata": {},
   "outputs": [],
   "source": []
  }
 ],
 "metadata": {
  "kernelspec": {
   "display_name": "Python 3",
   "language": "python",
   "name": "python3"
  },
  "language_info": {
   "codemirror_mode": {
    "name": "ipython",
    "version": 3
   },
   "file_extension": ".py",
   "mimetype": "text/x-python",
   "name": "python",
   "nbconvert_exporter": "python",
   "pygments_lexer": "ipython3",
   "version": "3.6.5"
  }
 },
 "nbformat": 4,
 "nbformat_minor": 2
}
